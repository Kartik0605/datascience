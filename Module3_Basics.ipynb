{
  "nbformat": 4,
  "nbformat_minor": 0,
  "metadata": {
    "colab": {
      "provenance": []
    },
    "kernelspec": {
      "name": "python3",
      "display_name": "Python 3"
    },
    "language_info": {
      "name": "python"
    }
  },
  "cells": [
    {
      "cell_type": "markdown",
      "source": [
        "#Python Basics Questions"
      ],
      "metadata": {
        "id": "d9n9OkdX2mlH"
      }
    },
    {
      "cell_type": "markdown",
      "source": [
        "1. What is Python, and why is it popular?\n",
        "  - Python is a high-level, interpreted programming language known for its clear syntax and readability. It supports multiple programming paradigms, including:\n",
        "      - Procedural\n",
        "      -Object-oriented\n",
        "      -Functional programming\n",
        "  - Python is popular because of its simple, readable syntax and versatility across domains like web development, data science, automation, and AI. Its vast standard library, strong community support, and cross-platform compatibility make it ideal for beginners and professionals alike.\n",
        "\n",
        "2. What is an interpreter in Python?\n",
        "  - An interpreter in Python is a program that reads and executes Python code line by line, converting it into machine code at runtime. Unlike compiled languages (like C++), Python doesn't require a separate compilation step — the interpreter directly runs the code, making debugging and testing easier.\n",
        "\n",
        "3. What are pre-defined keywords in Python?\n",
        "  - Pre-defined keywords are reserved words in Python that have special meanings and uses. They cannot be used as variable names because they are part of the language syntax. Examples include if, else, import, etc.\n",
        "\n",
        "4. Can keywords be used as variable names?\n",
        "  - No, keywords cannot be used as variable names in Python. They are reserved words that have predefined meanings and are part of the language's syntax.\n",
        "\n",
        "5. What is mutability in Python?\n",
        "  - Mutability in Python refers to whether an object's value can be changed after it is created.\n",
        "\n",
        "6. Why are lists mutable, but tuples are immutable?\n",
        "  - LISTS(mutable)\n",
        "      - Lists are designed for dynamic data that may change over time.\n",
        "      - You can add, remove, or modify elements after the list is created.\n",
        "      - Lists are stored in memory in a way that allows resizing.\n",
        "      - Useful for cases where data is frequently updated.\n",
        "  - TUPLES(immutable)\n",
        "      - Tuples are designed for fixed, constant data.\n",
        "      - You cannot change elements once the tuple is created.\n",
        "      - Immutability allows faster access and more memory efficiency.\n",
        "      - Tuples can be used as dictionary keys or in sets because they are hashable.\n",
        "      - Useful in cases where data integrity and read-only access are important.\n",
        "\n",
        "7. What is the difference between “==” and “is” operators in Python?\n",
        "  - \"==\" operators\n",
        "    - Compares the values of two objects.\n",
        "    - Returns True if the data/content is the same, even if stored in different memory locations\n",
        "  - \"is\" operators\n",
        "    - Compares the memory location (identity) of two objects.\n",
        "    - Returns True only if both variables point to the same object in memory.\n",
        "\n",
        "8. What are logical operators in Python?\n",
        "  - Logical operators are used to combine conditional statements and return Boolean values (True or False).\n",
        "    - And\n",
        "      - Returns True if both conditions are True\n",
        "    - Or\n",
        "      - Returns True if at least one condition is True.\n",
        "    - Not\n",
        "      - Reverses the result: returns True if the condition is False, and vice versa.\n",
        "\n",
        "9. What is type casting in Python?\n",
        "  - Type casting is the process of converting one data type into another.\n",
        "  - It helps when combining variables of different types or when specific data formats are required.\n",
        "\n",
        "10. What is the difference between implicit and explicit type casting?\n",
        "  - Implicit Type Casting\n",
        "    - Done automatically by Python.\n",
        "    - Converts smaller or less complex types to larger/more complex types.\n",
        "    - No data loss occurs.\n",
        "  - Explicit Type Casting\n",
        "    - Done manually by the programmer using functions like int(), float(), str(), etc.\n",
        "    - Useful when specific conversion is needed.\n",
        "\n",
        "11. What is the purpose of conditional statements in Python?\n",
        "  - Conditional statements allow you to make decisions in your code based on certain conditions.\n",
        "  - They are used to control the flow of execution by running different code blocks depending on whether a condition is True or False.\n",
        "  - Common conditional statements are:\n",
        "    - if\n",
        "    - elif\n",
        "    - else\n",
        "\n",
        "12. How does the elif statement work?\n",
        "  - The elif statement checks an additional condition if the previous if or elif conditions are false, allowing for multiple conditions to be tested sequentially.\n",
        "\n",
        "13. What is the difference between for and while loops?\n",
        "  - FOR LOOP\n",
        "      - Used when the number of iterations is known or finite.\n",
        "      - Iterates over a sequence (like a list, tuple, string, or range).\n",
        "      - Commonly used when you need to iterate through a fixed collection.\n",
        "  - WHILE LOOP\n",
        "      - Used when the number of iterations is unknown and depends on a condition.\n",
        "      - Runs as long as the condition remains True.\n",
        "      - Ideal for situations where you need to repeat actions until a certain condition is met.\n",
        "\n",
        "14. Describe a scenario where a while loop is more suitable than a for loop.\n",
        "  - A while loop is more suitable in situations where the number of iterations is unknown and depends on a condition being met during execution.\n",
        "  - Example: User Input Validation\n",
        "  Suppose you want to keep prompting the user for valid input (e.g., a positive number) until they enter a correct value.\n",
        "\n",
        "\n",
        "\n",
        "\n",
        "\n",
        "\n",
        "\n",
        "\n",
        "\n",
        "\n",
        "\n",
        "\n",
        "\n",
        "\n",
        "\n",
        "\n",
        "\n",
        "\n"
      ],
      "metadata": {
        "id": "P0eb2a8ssssA"
      }
    },
    {
      "cell_type": "markdown",
      "source": [
        "# Practical Questions"
      ],
      "metadata": {
        "id": "ctwgH3LfOjB3"
      }
    },
    {
      "cell_type": "markdown",
      "source": [
        "1. Write a Python program to print \"Hello, World!\""
      ],
      "metadata": {
        "id": "iZtsjUt9250F"
      }
    },
    {
      "cell_type": "code",
      "source": [
        "print(\"Hello, World!\")\n"
      ],
      "metadata": {
        "id": "hY-4loAW3azw"
      },
      "execution_count": null,
      "outputs": []
    },
    {
      "cell_type": "markdown",
      "source": [
        "2. Write a Python program that displays your name and age."
      ],
      "metadata": {
        "id": "xF0U9Mr-3ifD"
      }
    },
    {
      "cell_type": "code",
      "source": [
        "name = \"John Doe\"\n",
        "age = 25\n",
        "\n",
        "print(name)\n",
        "print(age)\n"
      ],
      "metadata": {
        "colab": {
          "base_uri": "https://localhost:8080/"
        },
        "id": "D91HZNp93rDB",
        "outputId": "5626ec2c-1182-4898-df09-bd43ace7f05d"
      },
      "execution_count": 1,
      "outputs": [
        {
          "output_type": "stream",
          "name": "stdout",
          "text": [
            "John Doe\n",
            "25\n"
          ]
        }
      ]
    },
    {
      "cell_type": "markdown",
      "source": [
        "3. Write code to print all the pre-defined keywords in Python using the keyword library."
      ],
      "metadata": {
        "id": "ZmTp5-Z-30Ui"
      }
    },
    {
      "cell_type": "code",
      "source": [
        "import keyword\n",
        "\n",
        "# Print all the keywords in Python\n",
        "print(\"List of Python keywords:\")\n",
        "print(keyword.kwlist)\n"
      ],
      "metadata": {
        "id": "W-KOas_235gy"
      },
      "execution_count": null,
      "outputs": []
    },
    {
      "cell_type": "markdown",
      "source": [
        "4. Write a program that checks if a given word is a Python keyword."
      ],
      "metadata": {
        "id": "VdP3HhM64HU9"
      }
    },
    {
      "cell_type": "code",
      "source": [
        "import keyword\n",
        "\n",
        "# Function to check if the word is a Python keyword\n",
        "def check_keyword(word):\n",
        "    if keyword.iskeyword(word):\n",
        "        return \"Is a Python keyword.\"\n",
        "    else:\n",
        "        return \"Is NOT a Python keyword.\"\n",
        "\n",
        "# Input word from the user\n",
        "word = input(\"Enter a word to check if it's a Python keyword: \").strip()\n",
        "\n",
        "# Output result\n",
        "print(check_keyword(word))\n"
      ],
      "metadata": {
        "colab": {
          "base_uri": "https://localhost:8080/"
        },
        "id": "CO2xioyI4L77",
        "outputId": "3abb1eec-7b07-4ea8-be58-ac6b6d65216a"
      },
      "execution_count": 3,
      "outputs": [
        {
          "output_type": "stream",
          "name": "stdout",
          "text": [
            "Enter a word to check if it's a Python keyword: else\n",
            "Is a Python keyword.\n"
          ]
        }
      ]
    },
    {
      "cell_type": "markdown",
      "source": [
        "5. Create a list and tuple in Python, and demonstrate how attempting to change an element works differently for each."
      ],
      "metadata": {
        "id": "CoGRRYNb4wpN"
      }
    },
    {
      "cell_type": "code",
      "source": [
        "# Creating a list (mutable)\n",
        "my_list = [1, 2, 3, 4]\n",
        "\n",
        "# Creating a tuple (immutable)\n",
        "my_tuple = (1, 2, 3, 4)\n",
        "\n",
        "# Attempt to change the second element in the list\n",
        "my_list[1] = 99\n",
        "print(\"Updated list:\", my_list)  # This will work as lists are mutable\n",
        "\n",
        "# Attempt to change the second element in the tuple\n",
        "try:\n",
        "    my_tuple[1] = 99\n",
        "except TypeError as e:\n",
        "    print(f\"Error: {e}\")  # This will raise an error as tuples are immutable\n"
      ],
      "metadata": {
        "colab": {
          "base_uri": "https://localhost:8080/"
        },
        "id": "EFoXS91H4zh4",
        "outputId": "2b8ce79e-f98b-4d17-c88d-aeaac052b588"
      },
      "execution_count": 4,
      "outputs": [
        {
          "output_type": "stream",
          "name": "stdout",
          "text": [
            "Updated list: [1, 99, 3, 4]\n",
            "Error: 'tuple' object does not support item assignment\n"
          ]
        }
      ]
    },
    {
      "cell_type": "markdown",
      "source": [
        "6.  Write a function to demonstrate the behavior of mutable and immutable arguments."
      ],
      "metadata": {
        "id": "a6KEAZrt5JIO"
      }
    },
    {
      "cell_type": "code",
      "source": [
        "def modify_immutable(x):\n",
        "    print(f\"Before modification: {x}\")\n",
        "    x = x + 10  # Creates a new object\n",
        "    print(f\"After modification inside function: {x}\")\n",
        "\n",
        "def modify_mutable(lst):\n",
        "    print(f\"Before modification: {lst}\")\n",
        "    lst.append(100)  # Modifies the list in place\n",
        "    print(f\"After modification inside function: {lst}\")\n",
        "\n",
        "# Immutable example\n",
        "num = 5\n",
        "print(f\"Original number: {num}\")\n",
        "modify_immutable(num)\n",
        "print(f\"Number after function call: {num}\\n\")  # Remains unchanged\n",
        "\n",
        "# Mutable example\n",
        "my_list = [1, 2, 3]\n",
        "print(f\"Original list: {my_list}\")\n",
        "modify_mutable(my_list)\n",
        "print(f\"List after function call: {my_list}\")  # Changes reflected"
      ],
      "metadata": {
        "id": "TDKtoprc5OFx"
      },
      "execution_count": null,
      "outputs": []
    },
    {
      "cell_type": "markdown",
      "source": [
        "7.  Write a program that performs basic arithmetic operations on two user-input numbers."
      ],
      "metadata": {
        "id": "fbx_GYnV5k9u"
      }
    },
    {
      "cell_type": "code",
      "source": [
        "# Function to perform basic arithmetic operations\n",
        "def basic_arithmetic_operations():\n",
        "    # Taking input from the user\n",
        "    num1 = float(input(\"Enter the first number: \"))\n",
        "    num2 = float(input(\"Enter the second number: \"))\n",
        "\n",
        "    # Performing arithmetic operations\n",
        "    addition = num1 + num2\n",
        "    subtraction = num1 - num2\n",
        "    multiplication = num1 * num2\n",
        "    division = None\n",
        "    if num2 != 0:  # Check to avoid division by zero\n",
        "        division = num1 / num2\n",
        "    else:\n",
        "        division = \"Undefined (Cannot divide by zero)\"\n",
        "\n",
        "    # Displaying results\n",
        "    print(f\"\\nResults:\")\n",
        "    print(f\"Addition: {num1} + {num2} = {addition}\")\n",
        "    print(f\"Subtraction: {num1} - {num2} = {subtraction}\")\n",
        "    print(f\"Multiplication: {num1} * {num2} = {multiplication}\")\n",
        "    print(f\"Division: {num1} / {num2} = {division}\")\n",
        "\n",
        "# Call the function to perform operations\n",
        "basic_arithmetic_operations()\n"
      ],
      "metadata": {
        "id": "lJDkhcAd5rKo"
      },
      "execution_count": null,
      "outputs": []
    },
    {
      "cell_type": "markdown",
      "source": [
        " 8. Write a program to demonstrate the use of logical operators."
      ],
      "metadata": {
        "id": "kJmkbUNc51NB"
      }
    },
    {
      "cell_type": "code",
      "source": [
        "# Function to demonstrate logical operators\n",
        "def logical_operators_demo():\n",
        "    # User input for two boolean conditions\n",
        "    a = bool(int(input(\"Enter 1 or 0 for the first condition (True/False): \")))\n",
        "    b = bool(int(input(\"Enter 1 or 0 for the second condition (True/False): \")))\n",
        "\n",
        "    # Using 'and' operator\n",
        "    and_result = a and b\n",
        "    print(f\"\\nUsing 'and' operator: {a} and {b} = {and_result}\")\n",
        "\n",
        "    # Using 'or' operator\n",
        "    or_result = a or b\n",
        "    print(f\"Using 'or' operator: {a} or {b} = {or_result}\")\n",
        "\n",
        "    # Using 'not' operator\n",
        "    not_result_a = not a\n",
        "    not_result_b = not b\n",
        "    print(f\"Using 'not' operator on first condition: not {a} = {not_result_a}\")\n",
        "    print(f\"Using 'not' operator on second condition: not {b} = {not_result_b}\")\n",
        "\n",
        "# Call the function to demonstrate logical operators\n",
        "logical_operators_demo()\n"
      ],
      "metadata": {
        "id": "4jUb9xQ853v9"
      },
      "execution_count": null,
      "outputs": []
    },
    {
      "cell_type": "markdown",
      "source": [
        "9. Write a Python program to convert user input from string to integer, float, and boolean types."
      ],
      "metadata": {
        "id": "9Wh7i3Ux6Bwm"
      }
    },
    {
      "cell_type": "code",
      "source": [
        "# Function to demonstrate type conversion\n",
        "def convert_input_types():\n",
        "    # Taking user input as a string\n",
        "    user_input = input(\"Enter a value: \")\n",
        "\n",
        "    # Converting the input to integer, float, and boolean\n",
        "    try:\n",
        "        int_value = int(user_input)  # Converting to integer\n",
        "        print(f\"Converted to Integer: {int_value}\")\n",
        "    except ValueError:\n",
        "        print(\"Cannot convert to Integer\")\n",
        "\n",
        "    try:\n",
        "        float_value = float(user_input)  # Converting to float\n",
        "        print(f\"Converted to Float: {float_value}\")\n",
        "    except ValueError:\n",
        "        print(\"Cannot convert to Float\")\n",
        "\n",
        "    # Converting to boolean\n",
        "    if user_input.lower() in ['true', '1']:\n",
        "        bool_value = True\n",
        "    else:\n",
        "        bool_value = False\n",
        "    print(f\"Converted to Boolean: {bool_value}\")\n",
        "\n",
        "# Call the function\n",
        "convert_input_types()\n"
      ],
      "metadata": {
        "id": "8je9qGRi6HVi"
      },
      "execution_count": null,
      "outputs": []
    },
    {
      "cell_type": "markdown",
      "source": [
        "10.  Write code to demonstrate type casting with list elements."
      ],
      "metadata": {
        "id": "VwvZrlgH6NSh"
      }
    },
    {
      "cell_type": "code",
      "source": [
        "# Function to demonstrate type casting with list elements\n",
        "def type_casting_with_lists():\n",
        "    # Example list with mixed data types (strings)\n",
        "    string_list = [\"10\", \"20\", \"30\", \"40.5\", \"50.7\"]\n",
        "\n",
        "    # Convert all elements in the list from string to integer\n",
        "    int_list = [int(float(item)) for item in string_list]  # Convert to float first (for numbers with decimals)\n",
        "    print(f\"Converted to Integer List: {int_list}\")\n",
        "\n",
        "    # Convert all elements in the list from string to float\n",
        "    float_list = [float(item) for item in string_list]\n",
        "    print(f\"Converted to Float List: {float_list}\")\n",
        "\n",
        "    # Convert all elements in the list from string to boolean (non-empty strings are considered True)\n",
        "    bool_list = [bool(item) for item in string_list]\n",
        "    print(f\"Converted to Boolean List: {bool_list}\")\n",
        "\n",
        "# Call the function to demonstrate type casting\n",
        "type_casting_with_lists()\n"
      ],
      "metadata": {
        "id": "yXAJJ7me6SNs"
      },
      "execution_count": null,
      "outputs": []
    },
    {
      "cell_type": "markdown",
      "source": [
        "11. Write a program that checks if a number is positive, negative, or zero."
      ],
      "metadata": {
        "id": "AIDA9gOv6bR0"
      }
    },
    {
      "cell_type": "code",
      "source": [
        "# Function to check if the number is positive, negative, or zero\n",
        "def check_number():\n",
        "    # Taking user input\n",
        "    number = float(input(\"Enter a number: \"))\n",
        "\n",
        "    # Checking if the number is positive, negative, or zero\n",
        "    if number > 0:\n",
        "        print(\"The number is Positive.\")\n",
        "    elif number < 0:\n",
        "        print(\"The number is Negative.\")\n",
        "    else:\n",
        "        print(\"The number is Zero.\")\n",
        "\n",
        "# Call the function to check the number\n",
        "check_number()\n"
      ],
      "metadata": {
        "colab": {
          "base_uri": "https://localhost:8080/"
        },
        "id": "bWkB9K0C6fUh",
        "outputId": "270505a6-7787-4cee-b757-845b3b6ce9a2"
      },
      "execution_count": 8,
      "outputs": [
        {
          "output_type": "stream",
          "name": "stdout",
          "text": [
            "Enter a number: -5\n",
            "The number is Negative.\n"
          ]
        }
      ]
    },
    {
      "cell_type": "markdown",
      "source": [
        "12.  Write a for loop to print numbers from 1 to 10."
      ],
      "metadata": {
        "id": "nT28EUxy6lrs"
      }
    },
    {
      "cell_type": "code",
      "source": [
        "# Using a for loop to print numbers from 1 to 10\n",
        "for number in range(1, 11):\n",
        "    print(number)\n"
      ],
      "metadata": {
        "colab": {
          "base_uri": "https://localhost:8080/"
        },
        "id": "fODi_kM96sLO",
        "outputId": "4f8e247e-16bf-43ca-cc00-3df973cf64f7"
      },
      "execution_count": 7,
      "outputs": [
        {
          "output_type": "stream",
          "name": "stdout",
          "text": [
            "1\n",
            "2\n",
            "3\n",
            "4\n",
            "5\n",
            "6\n",
            "7\n",
            "8\n",
            "9\n",
            "10\n"
          ]
        }
      ]
    },
    {
      "cell_type": "markdown",
      "source": [
        "13. Write a Python program to find the sum of all even numbers between 1 and 50."
      ],
      "metadata": {
        "id": "bvyzXWmA6u9g"
      }
    },
    {
      "cell_type": "code",
      "source": [
        "# Initialize sum\n",
        "even_sum = 0\n",
        "\n",
        "# Loop through numbers from 1 to 50\n",
        "for number in range(1, 51):\n",
        "    if number % 2 == 0:\n",
        "        even_sum += number\n",
        "\n",
        "# Print the result\n",
        "print(\"Sum of all even numbers between 1 and 50 is:\", even_sum)\n"
      ],
      "metadata": {
        "colab": {
          "base_uri": "https://localhost:8080/"
        },
        "id": "TrnZx46963Bt",
        "outputId": "f1646048-919c-445f-cc63-4d04181d7a30"
      },
      "execution_count": 6,
      "outputs": [
        {
          "output_type": "stream",
          "name": "stdout",
          "text": [
            "Sum of all even numbers between 1 and 50 is: 650\n"
          ]
        }
      ]
    },
    {
      "cell_type": "markdown",
      "source": [
        "14.  Write a program to reverse a string using a while loop.\n"
      ],
      "metadata": {
        "id": "aVXUgo3s6-ZA"
      }
    },
    {
      "cell_type": "code",
      "source": [
        "# Take input from the user\n",
        "original = input(\"Enter a string: \")\n",
        "\n",
        "# Initialize variables\n",
        "reversed_str = \"\"\n",
        "index = len(original) - 1\n",
        "\n",
        "# Reverse using while loop\n",
        "while index >= 0:\n",
        "    reversed_str += original[index]\n",
        "    index -= 1\n",
        "\n",
        "# Print the reversed string\n",
        "print(\"Reversed string:\", reversed_str)\n"
      ],
      "metadata": {
        "colab": {
          "base_uri": "https://localhost:8080/"
        },
        "id": "jAJsfAzY69wq",
        "outputId": "48084763-b355-4a30-e007-5b152fb5ce74"
      },
      "execution_count": 5,
      "outputs": [
        {
          "output_type": "stream",
          "name": "stdout",
          "text": [
            "Enter a string: string\n",
            "Reversed string: gnirts\n"
          ]
        }
      ]
    },
    {
      "cell_type": "markdown",
      "source": [
        "15. Write a Python program to calculate the factorial of a number provided by the user using a while loop."
      ],
      "metadata": {
        "id": "Q8TTgoGX7RYu"
      }
    },
    {
      "cell_type": "code",
      "source": [
        "# Take input from the user\n",
        "num = int(input(\"Enter a non-negative integer: \"))\n",
        "\n",
        "# Check for valid input\n",
        "if num < 0:\n",
        "    print(\"Factorial is not defined for negative numbers.\")\n",
        "else:\n",
        "    factorial = 1\n",
        "    i = 1\n",
        "\n",
        "    # Calculate factorial using while loop\n",
        "    while i <= num:\n",
        "        factorial *= i\n",
        "        i += 1\n",
        "\n",
        "    # Display the result\n",
        "    print(f\"Factorial of {num} is {factorial}\")\n"
      ],
      "metadata": {
        "colab": {
          "base_uri": "https://localhost:8080/"
        },
        "id": "Sw9Ycxyr7dXe",
        "outputId": "66a7c1da-f7c9-4cf9-ca19-34402764e7cd"
      },
      "execution_count": 9,
      "outputs": [
        {
          "output_type": "stream",
          "name": "stdout",
          "text": [
            "Enter a non-negative integer: 10\n",
            "Factorial of 10 is 3628800\n"
          ]
        }
      ]
    }
  ]
}